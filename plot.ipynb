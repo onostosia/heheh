{
  "nbformat": 4,
  "nbformat_minor": 0,
  "metadata": {
    "colab": {
      "name": "Untitled4.ipynb",
      "provenance": [],
      "authorship_tag": "ABX9TyOYAcYh2J6ORutlhM22kD3K",
      "include_colab_link": true
    },
    "kernelspec": {
      "name": "python3",
      "display_name": "Python 3"
    }
  },
  "cells": [
    {
      "cell_type": "markdown",
      "metadata": {
        "id": "view-in-github",
        "colab_type": "text"
      },
      "source": [
        "<a href=\"https://colab.research.google.com/github/onostosia/heheh/blob/master/plot.ipynb\" target=\"_parent\"><img src=\"https://colab.research.google.com/assets/colab-badge.svg\" alt=\"Open In Colab\"/></a>"
      ]
    },
    {
      "cell_type": "markdown",
      "metadata": {
        "id": "MVqOhDg92hSI",
        "colab_type": "text"
      },
      "source": [
        "## Лабораторная работа №1. \"Моделирование распространения пандемии средствами Python\""
      ]
    },
    {
      "cell_type": "code",
      "metadata": {
        "id": "KWX0VNEh0hti",
        "colab_type": "code",
        "colab": {
          "resources": {
            "http://localhost:8080/nbextensions/google.colab/files.js": {
              "data": "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",
              "ok": true,
              "headers": [
                [
                  "content-type",
                  "application/javascript"
                ]
              ],
              "status": 200,
              "status_text": ""
            }
          },
          "base_uri": "https://localhost:8080/",
          "height": 106
        },
        "outputId": "eac6aff1-d3a4-43c8-fdd9-d5b43e836b6f"
      },
      "source": [
        "import pandas as pd\n",
        "import plotly.express as px\n",
        "import requests\n",
        "import plotly.graph_objects as go\n",
        "import geopandas as gpd\n",
        "import seaborn as sns\n",
        "import time\n",
        "from google.colab import files\n",
        "\n",
        "#считываем данные из файла\n",
        "files.upload()"
      ],
      "execution_count": null,
      "outputs": [
        {
          "output_type": "display_data",
          "data": {
            "text/html": [
              "\n",
              "     <input type=\"file\" id=\"files-6d8e4d62-da64-4a05-87da-3c3d87d27d0e\" name=\"files[]\" multiple disabled\n",
              "        style=\"border:none\" />\n",
              "     <output id=\"result-6d8e4d62-da64-4a05-87da-3c3d87d27d0e\">\n",
              "      Upload widget is only available when the cell has been executed in the\n",
              "      current browser session. Please rerun this cell to enable.\n",
              "      </output>\n",
              "      <script src=\"/nbextensions/google.colab/files.js\"></script> "
            ],
            "text/plain": [
              "<IPython.core.display.HTML object>"
            ]
          },
          "metadata": {
            "tags": []
          }
        },
        {
          "output_type": "stream",
          "text": [
            "Saving Countries.csv to Countries.csv\n"
          ],
          "name": "stdout"
        },
        {
          "output_type": "execute_result",
          "data": {
            "text/plain": [
              "{'Countries.csv': b',country,Log,Lon,code,pop,iso_alfa,Country code,GDP\\r\\n0,Afghanistan,34.51666667,69.18333299999999,AF,38041754,AFG,4,700.0\\r\\n1,Albania,41.31666667,19.816667000000002,AL,2880917,ALB,8,4500.0\\r\\n2,Algeria,36.75,3.05,DZ,43053054,DZA,12,6000.0\\r\\n3,American Samoa,-14.26666667,-170.7,AS,55312,ASM,16,8000.0\\r\\n4,Andorra,42.5,1.516667,AD,77142,AND,20,19000.0\\r\\n5,Angola,-8.833333332999999,13.216667000000001,AO,31825295,AGO,24,1900.0\\r\\n6,Anguilla,18.21666667,-63.05,AI,14869,AIA,660,8600.0\\r\\n7,Antigua and Barbuda,17.11666667,-61.85,AG,97118,ATG,28,11000.0\\r\\n8,Argentina,-34.58333333,-58.666667000000004,AR,44780677,ARG,32,11200.0\\r\\n9,Armenia,40.16666667,44.5,AM,2957731,ARM,51,3500.0\\r\\n10,Aruba,12.51666667,-70.033333,AW,106314,ABW,533,28000.0\\r\\n11,Australia,-35.26666667,149.133333,AU,25203198,AUS,36,29000.0\\r\\n12,Austria,48.2,16.366667,AT,8955102,AUT,40,30000.0\\r\\n13,Azerbaijan,40.38333333,49.866667,AZ,10047718,AZE,31,3400.0\\r\\n14,Bahamas,25.08333333,-77.35,BS,389482,BHS,44,16700.0\\r\\n15,Bahrain,26.23333333,50.566666999999995,BH,1641172,BHR,48,16900.0\\r\\n16,Bangladesh,23.71666667,90.4,BD,163046161,BGD,50,1900.0\\r\\n17,Barbados,13.1,-59.61666700000001,BB,287025,BRB,52,15700.0\\r\\n18,Belarus,53.9,27.566667,BY,9452411,BLR,112,6100.0\\r\\n19,Belgium,50.83333333,4.3333330000000005,BE,11539328,BEL,56,29100.0\\r\\n20,Belize,17.25,-88.766667,BZ,390353,BLZ,84,4900.0\\r\\n21,Benin,6.483333332999999,2.6166669999999996,BJ,11801151,BEN,204,1100.0\\r\\n22,Bermuda,32.28333333,-64.783333,BM,62506,BMU,60,36000.0\\r\\n23,Bhutan,27.46666667,89.633333,BT,763092,BTN,64,1300.0\\r\\n24,Bolivia,-16.5,-68.15,BO,11513100,BOL,68,2400.0\\r\\n25,Bosnia and Herzegovina,43.86666667,18.416667,BA,3301000,BIH,70,6100.0\\r\\n26,Botswana,-24.63333333,25.9,BW,2303697,BWA,72,9000.0\\r\\n27,Brazil,-15.78333333,-47.916667,BR,211049527,BRA,76,7600.0\\r\\n28,British Virgin Islands,18.41666667,-64.616667,VG,30030,VGB,92,16000.0\\r\\n29,Bulgaria,42.68333333,23.316667000000002,BG,7000119,BGR,100,18600.0\\r\\n30,Burkina Faso,12.36666667,-1.516667,BF,20321378,BFA,854,7600.0\\r\\n31,Burundi,-3.366666667,29.35,BI,11530580,BDI,108,1100.0\\r\\n32,Cambodia,11.55,104.91666699999999,KH,16486542,KHM,116,1800.0\\r\\n33,Cameroon,3.866666667,11.516667,CM,25876380,CMR,120,600.0\\r\\n34,Canada,45.41666667,-75.7,CA,37411047,CAN,124,1900.0\\r\\n35,Cape Verde,14.91666667,-23.516667,CV,549935,CPV,132,1800.0\\r\\n36,Cayman Islands,19.3,-81.383333,KY,64948,CYM,136,29800.0\\r\\n37,Central African Republic,4.366666667,18.583333,CF,4745185,CAF,140,1400.0\\r\\n38,Chad,12.1,15.033332999999999,TD,15946876,TCD,148,35000.0\\r\\n39,Chile,-33.45,-70.666667,CL,18952038,CHL,152,1100.0\\r\\n40,China,39.91666667,116.38333300000001,CN,1433783686,CHN,156,1200.0\\r\\n41,Colombia,4.6,-74.083333,CO,50339443,COL,170,9900.0\\r\\n42,Comoros,-11.7,43.233333,KM,850886,COM,174,5000.0\\r\\n43,Cook Islands,-21.2,-159.76666699999998,CK,17548,COK,184,6300.0\\r\\n44,Costa Rica,9.933333333,-84.083333,CR,5047561,CRI,188,700.0\\r\\n45,Croatia,45.8,16.0,HR,4130304,HRV,191,700.0\\r\\n46,Cuba,23.11666667,-82.35,CU,11333483,CUB,192,700.0\\r\\n47,Cyprus,35.16666667,33.366667,CY,1198575,CYP,196,5000.0\\r\\n48,Czech Republic,50.08333333,14.466667000000001,CZ,10689209,CZE,203,9100.0\\r\\n49,Denmark,55.66666667,12.583333,DK,5771876,DNK,208,1400.0\\r\\n50,Djibouti,11.58333333,43.15,DJ,973560,DJI,262,10600.0\\r\\n51,Dominica,15.3,-61.4,DM,71808,DMA,212,2900.0\\r\\n52,Dominican Republic,18.46666667,-69.9,DO,10738958,DOM,214,19200.0\\r\\n53,Ecuador,-0.21666666699999998,-78.5,EC,17373662,ECU,218,15700.0\\r\\n54,Egypt,30.05,31.25,EG,100388073,EGY,818,31100.0\\r\\n55,El Salvador,13.7,-89.2,SV,6453553,SLV,222,1300.0\\r\\n56,Equatorial Guinea,3.75,8.783333,GQ,1355986,GNQ,226,5400.0\\r\\n57,Eritrea,15.33333333,38.933333000000005,ER,3497117,ERI,232,6000.0\\r\\n58,Estonia,59.43333333,24.716667,EE,1325648,EST,233,500.0\\r\\n59,Ethiopia,9.033333333,38.7,ET,112078730,ETH,231,3300.0\\r\\n60,Falkland Islands,-51.7,-57.85,FK,3377,FLK,238,4000.0\\r\\n61,Faroe Islands,62.0,-6.766667,FO,48678,FRO,234,4800.0\\r\\n62,Fiji,-18.13333333,178.416667,FJ,889953,FJI,242,2700.0\\r\\n63,Finland,60.16666667,24.933332999999998,FI,5532156,FIN,246,700.0\\r\\n64,France,48.86666667,2.333333,FR,65129728,FRA,250,12300.0\\r\\n65,French Polynesia,-17.53333333,-149.566667,PF,279287,PYF,258,700.0\\r\\n66,Gabon,0.38333333299999994,9.45,GA,2172579,GAB,266,22000.0\\r\\n67,Georgia,41.68333333,44.833333,GE,3996765,GEO,268,5800.0\\r\\n68,Germany,52.51666667,13.4,DE,83517045,DEU,276,27400.0\\r\\n69,Ghana,5.55,-0.216667,GH,30417856,GHA,288,27600.0\\r\\n70,Gibraltar,36.13333333,-5.35,GI,33701,GIB,292,8300.0\\r\\n71,Greece,37.98333333,23.733333,GR,10473455,GRC,300,17500.0\\r\\n72,Greenland,64.18333333,-51.75,GL,56672,GRL,304,5500.0\\r\\n73,Grenada,12.05,-61.75,GD,112003,GRD,308,1700.0\\r\\n74,Guam,13.46666667,144.73333300000002,GU,167294,GUM,316,600.0\\r\\n75,Guatemala,14.61666667,-90.516667,GT,17581472,GTM,320,2500.0\\r\\n76,Guinea,9.5,-13.7,GN,12771246,GIN,324,27600.0\\r\\n77,Guinea-Bissau,11.85,-15.583332999999998,GW,1920922,GNB,624,2200.0\\r\\n78,Guyana,6.8,-58.15,GY,782766,GUY,328,17500.0\\r\\n79,Haiti,18.53333333,-72.333333,HT,11263077,HTI,332,20000.0\\r\\n80,Honduras,14.1,-87.216667,HN,9746117,HND,340,20000.0\\r\\n81,Hong Kong,0.0,0.0,HK,7436154,HKG,344,5000.0\\r\\n82,Hungary,47.5,19.083333,HU,9684679,HUN,348,8000.0\\r\\n83,Iceland,64.15,-21.95,IS,339031,ISL,352,21000.0\\r\\n84,India,28.6,77.2,IN,1366417754,IND,356,4100.0\\r\\n85,Indonesia,-6.166666667,106.816667,ID,270625568,IDN,360,20000.0\\r\\n86,Iran,35.7,51.416667,IR,82913906,IRN,364,2100.0\\r\\n87,Iraq,33.33333333,44.4,IQ,39309783,IRQ,368,800.0\\r\\n88,Ireland,53.31666667,-6.233333,IE,4882495,IRL,372,4000.0\\r\\n89,Isle of Man,54.15,-4.483333,IM,84584,IMN,833,1600.0\\r\\n90,Israel,31.76666667,35.233333,IL,8519377,ISR,376,2600.0\\r\\n91,Italy,41.9,12.483333,IT,60550075,ITA,380,28800.0\\r\\n92,Jamaica,18.0,-76.8,JM,2948279,JAM,388,13900.0\\r\\n93,Japan,35.68333333,139.75,JP,126860301,JPN,392,30900.0\\r\\n94,Jordan,31.95,35.933333000000005,JO,10101694,JOR,400,2900.0\\r\\n95,Kazakhstan,51.16666667,71.416667,KZ,18551427,KAZ,398,3200.0\\r\\n96,Kenya,-1.283333333,36.816666999999995,KE,52573973,KEN,404,7000.0\\r\\n97,Kiribati,-0.8833333329999999,169.533333,KI,117606,KIR,296,1500.0\\r\\n98,Kuwait,29.36666667,47.966667,KW,4207083,KWT,414,29600.0\\r\\n99,Kyrgyzstan,42.86666667,74.6,KG,6415850,KGZ,417,21000.0\\r\\n100,Laos,17.96666667,102.6,LA,7169455,LAO,418,19800.0\\r\\n101,Latvia,56.95,24.1,LV,1906743,LVA,428,26700.0\\r\\n102,Lebanon,33.86666667,35.5,LB,6855713,LBN,422,3900.0\\r\\n103,Lesotho,-29.31666667,27.483333000000002,LS,2125268,LSO,426,28200.0\\r\\n104,Liberia,6.3,-10.8,LR,4937374,LBR,430,24800.0\\r\\n105,Libya,32.88333333,13.166667000000002,LY,6777452,LBY,434,4300.0\\r\\n106,Liechtenstein,47.13333333,9.516667,LI,38019,LIE,438,6300.0\\r\\n107,Lithuania,54.68333333,25.316667000000002,LT,2759627,LTU,440,1000.0\\r\\n108,Luxembourg,49.6,6.116667,LU,615729,LUX,442,800.0\\r\\n109,Macau,0.0,0.0,MO,640445,MAC,446,1300.0\\r\\n110,Macedonia,42.0,21.433332999999998,MK,2083459,MKD,807,17800.0\\r\\n111,Madagascar,-18.91666667,47.516667,MG,26969307,MDG,450,19000.0\\r\\n112,Malawi,-13.96666667,33.783333,MW,18628747,MWI,454,1600.0\\r\\n113,Malaysia,3.166666667,101.7,MY,31949777,MYS,458,1700.0\\r\\n114,Maldives,4.166666667,73.5,MV,530953,MDV,462,10200.0\\r\\n115,Mali,12.65,-8.0,ML,19658031,MLI,466,4800.0\\r\\n116,Malta,35.88333333,14.5,MT,440372,MLT,470,3000.0\\r\\n117,Marshall Islands,7.1,171.383333,MH,58791,MHL,584,1000.0\\r\\n118,Mauritania,18.06666667,-15.966667000000001,MR,4525696,MRT,478,6400.0\\r\\n119,Mauritius,-20.15,57.483332999999995,MU,1269668,MUS,480,25000.0\\r\\n120,Mexico,19.43333333,-99.133333,MX,127575529,MEX,484,11400.0\\r\\n121,Moldova,47.0,28.85,MD,4043263,MDA,498,55100.0\\r\\n122,Monaco,43.73333333,7.4166669999999995,MC,38964,MCO,492,19400.0\\r\\n123,Mongolia,47.91666667,106.91666699999999,MN,3225167,MNG,496,6700.0\\r\\n124,Montenegro,42.43333333,19.266667,ME,627987,MNE,499,800.0\\r\\n125,Montserrat,16.7,-62.216667,MS,4989,MSR,500,600.0\\r\\n126,Morocco,34.01666667,-6.816667,MA,36471769,MAR,504,9000.0\\r\\n127,Mozambique,-25.95,32.583333,MZ,30366036,MOZ,508,3900.0\\r\\n128,Myanmar,16.8,96.15,MM,54045420,MMR,104,900.0\\r\\n129,Namibia,-22.56666667,17.083333,,2494530,NAM,516,17700.0\\r\\n130,Nauru,-0.5477,166.920867,NR,10756,NRU,520,1600.0\\r\\n131,Nepal,27.71666667,85.31666700000001,NP,28608710,NPL,524,14400.0\\r\\n132,Netherlands,52.35,4.9166669999999995,NL,17097130,NLD,528,1800.0\\r\\n133,New Caledonia,-22.26666667,166.45,NC,282750,NCL,540,11400.0\\r\\n134,New Zealand,-41.3,174.783333,NZ,4783063,NZL,554,2600.0\\r\\n135,Nicaragua,12.13333333,-86.25,NI,6545502,NIC,558,9000.0\\r\\n136,Niger,13.51666667,2.1166669999999996,NE,23310715,NER,562,2000.0\\r\\n137,Nigeria,9.083333332999999,7.533333,NG,200963599,NGA,566,1800.0\\r\\n138,Niue,-19.01666667,-169.916667,NU,1615,NIU,570,27000.0\\r\\n139,North Korea,39.01666667,125.75,KP,25666161,PRK,408,1800.0\\r\\n140,Northern Mariana Islands,15.2,145.75,MP,57216,MNP,580,3400.0\\r\\n141,Norway,59.91666667,10.75,NO,5378857,NOR,578,4000.0\\r\\n142,Oman,23.61666667,58.583332999999996,OM,4974986,OMN,512,1200.0\\r\\n143,Pakistan,33.68333333,73.05,PK,216565318,PAK,586,7200.0\\r\\n144,Palau,7.483333332999999,134.633333,PW,18008,PLW,585,5000.0\\r\\n145,Palestine,31.76666667,35.233333,PS,4981420,PSE,275,1400.0\\r\\n146,Panama,8.966666667,-79.533333,PA,4246439,PAN,591,28600.0\\r\\n147,Papua New Guinea,-9.45,147.183333,PG,8776109,PNG,598,11400.0\\r\\n148,Paraguay,-25.26666667,-57.666667000000004,PY,7044636,PRY,600,15000.0\\r\\n149,Peru,-12.05,-77.05,PE,32510453,PER,604,21600.0\\r\\n150,Philippines,14.6,120.96666699999999,PH,108116615,PHL,608,2300.0\\r\\n151,Poland,52.25,21.0,PL,37887768,POL,616,800.0\\r\\n152,Portugal,38.71666667,-9.133333,PT,10226187,PRT,620,900.0\\r\\n153,Puerto Rico,18.46666667,-66.116667,PR,2933408,PRI,630,12500.0\\r\\n154,Qatar,25.28333333,51.533333,QA,2832067,QAT,634,37800.0\\r\\n155,Romania,44.43333333,26.1,RO,19364557,ROU,642,13100.0\\r\\n156,Russia,55.75,37.6,RU,145872256,RUS,643,2100.0\\r\\n157,Rwanda,-1.95,30.05,RW,12626950,RWA,646,9000.0\\r\\n158,Saint Kitts and Nevis,17.3,-62.716667,KN,52823,KNA,659,6300.0\\r\\n159,Saint Lucia,14.0,-61.0,LC,182790,LCA,662,2200.0\\r\\n160,Saint Martin,18.0731,-63.0822,MF,38002,MAF,663,4700.0\\r\\n161,Saint Pierre and Miquelon,46.76666667,-56.183333,PM,5822,SPM,666,5100.0\\r\\n162,Saint Vincent and the Grenadines,13.13333333,-61.216667,VC,110589,VCT,670,4600.0\\r\\n163,Samoa,-13.81666667,-171.76666699999998,WS,197097,WSM,882,11100.0\\r\\n164,San Marino,43.93333333,12.416667,SM,33860,SMR,674,18000.0\\r\\n165,Sao Tome and Principe,0.333333333,6.733333,ST,215056,STP,678,16800.0\\r\\n166,Saudi Arabia,24.65,46.7,SA,34268528,SAU,682,21500.0\\r\\n167,Senegal,14.73333333,-17.633333,SN,16296364,SEN,686,5800.0\\r\\n168,Serbia,44.83333333,20.5,RS,8772235,SRB,688,7000.0\\r\\n169,Seychelles,-4.616666667,55.45,SC,97739,SYC,690,8900.0\\r\\n170,Sierra Leone,8.483333333,-13.233332999999998,SL,7813215,SLE,694,1300.0\\r\\n171,Singapore,1.283333333,103.85,SG,5804337,SGP,702,2500.0\\r\\n172,Sint Maarten,18.01666667,-63.033333,SX,42388,SXM,534,8800.0\\r\\n173,Slovakia,48.15,17.116667,SK,5457013,SVK,703,5400.0\\r\\n174,Slovenia,46.05,14.516667000000002,SI,2078654,SVN,705,6900.0\\r\\n175,Solomon Islands,-9.433333333,159.95,SB,669823,SLB,90,2900.0\\r\\n176,Somalia,2.066666667,45.333333,SO,15442905,SOM,706,5600.0\\r\\n177,South Africa,-25.7,28.216666999999998,ZA,58558270,ZAF,710,34600.0\\r\\n178,South Korea,37.55,126.983333,KR,51225308,KOR,410,1200.0\\r\\n179,South Sudan,4.85,31.616667,SS,11062113,SSD,728,11800.0\\r\\n180,Spain,40.4,-3.683333,ES,46736776,ESP,724,1600.0\\r\\n181,Sri Lanka,6.916666667,79.833333,LK,21323733,LKA,144,2200.0\\r\\n182,Sudan,15.6,32.533333,SD,42813238,SDN,729,7800.0\\r\\n183,Suriname,5.833333333,-55.166667000000004,SR,581372,SUR,740,500.0\\r\\n184,Swaziland,-26.31666667,31.133333,SZ,1148130,SWZ,748,23700.0\\r\\n185,Sweden,59.33333333,18.05,SE,10036379,SWE,752,13300.0\\r\\n186,Switzerland,46.91666667,7.466667,CH,8591365,CHE,756,19000.0\\r\\n187,Syria,33.5,36.3,SY,17070135,SYR,760,1700.0\\r\\n188,Taiwan,25.03333333,121.516667,TW,23773876,TWN,158,500.0\\r\\n189,Tajikistan,38.55,68.766667,TJ,9321018,TJK,762,10700.0\\r\\n190,Tanzania,-6.8,39.283333,TZ,58005463,TZA,834,22000.0\\r\\n191,Thailand,13.75,100.516667,TH,69625582,THA,764,3700.0\\r\\n192,Timor-Leste,-8.583333332999999,125.6,TL,1293119,TLS,626,1900.0\\r\\n193,Togo,6.1166666670000005,1.216667,TG,8082366,TGO,768,4000.0\\r\\n194,Tokelau,-9.166667,-171.833333,TK,1340,TKL,772,4900.0\\r\\n195,Tonga,-21.13333333,-175.2,TO,104494,TON,776,26800.0\\r\\n196,Trinidad and Tobago,10.65,-61.516667000000005,TT,1394973,TTO,780,32700.0\\r\\n197,Tunisia,36.8,10.183333,TN,11694719,TUN,788,3300.0\\r\\n198,Turkey,39.93333333,32.866667,TR,83429615,TUR,792,23400.0\\r\\n199,Turkmenistan,37.95,58.38333299999999,TM,5942089,TKM,795,1000.0\\r\\n200,Turks and Caicos Islands,21.46666667,-71.133333,TC,38191,TCA,796,600.0\\r\\n201,Tuvalu,-8.516666667,179.216667,TV,11646,TUV,798,7400.0\\r\\n202,Uganda,0.316666667,32.55,UG,44269594,UGA,800,1500.0\\r\\n203,Ukraine,50.43333333,30.516666999999998,UA,43993638,UKR,804,2200.0\\r\\n204,United Arab Emirates,24.46666667,54.36666700000001,AE,9770529,ARE,784,9500.0\\r\\n205,United Kingdom,51.5,-0.083333,GB,67530172,GBR,826,6900.0\\r\\n206,United States,38.883333,-77.0,US,329064917,USA,840,6700.0\\r\\n207,Uruguay,-34.85,-56.166667000000004,UY,3461734,URY,858,5800.0\\r\\n208,Uzbekistan,41.31666667,69.25,UZ,32981716,UZB,860,9600.0\\r\\n209,Vanuatu,-17.73333333,168.316667,VU,299882,VUT,548,1100.0\\r\\n210,Vatican City,41.9,12.45,VA,799,VAT,336,1400.0\\r\\n211,Venezuela,10.48333333,-66.866667,VE,28515829,VEN,862,5400.0\\r\\n212,Vietnam,21.03333333,105.85,VN,96462106,VNM,704,23200.0\\r\\n213,Wallis and Futuna,-13.95,-171.933333,WF,11432,WLF,876,27700.0\\r\\n214,Western Sahara,27.153610999999998,-13.203332999999999,EH,582463,ESH,732,37800.0\\r\\n215,Yemen,15.35,44.2,YE,29161922,YEM,887,12800.0\\r\\n216,Zambia,-15.41666667,28.283333000000002,ZM,17861030,ZMB,894,1700.0\\r\\n217,Zimbabwe,-17.81666667,31.033333000000002,ZW,14645468,ZWE,716,2900.0\\r\\n218,Aland Islands,60.11666700000001,19.9,AX,28007,ALA,248,4800.0\\r\\n219,Antarctica,0.0,0.0,AQ,4000,ATA,10,2500.0\\r\\n220,British Indian Ocean Territory,-7.3,72.4,IO,2000,IOT,86,17200.0\\r\\n221,Brunei Darussalam,4.883333333,114.933333,BN,428697,BRN,96,3700.0\\r\\n222,Christmas Island,-10.41666667,105.71666699999999,CX,1402,CXR,162,800.0\\r\\n223,Cocos Islands,-12.16666667,96.833333,CC,596,CCK,166,\\r\\n224,Cote d\\xe2\\x80\\x99Ivoire,6.816666667000001,-5.266667,CI,26104993,CIV,384,800.0\\r\\n225,Cura?\\xc2\\xa7ao,12.1,-68.916667,CW,158665,CUW,531,800.0\\r\\n226,Democratic Republic of the Congo,-4.316666667,15.3,CD,84068091,COD,180,1900.0\\r\\n227,Federated States of Micronesia,6.916666667,158.15,FM,105544,FSM,583,\\r\\n228,Guernsey,49.45,-2.5333330000000003,GG,67052,GGY,831,\\r\\n229,Jersey,49.18333333,-2.1,JE,97857,JEY,832,\\r\\n230,Norfolk Island,-29.05,167.966667,NF,2169,NFK,574,\\r\\n231,Pitcairn Islands,-25.06666667,-130.083333,PN,67,PCN,612,\\r\\n232,Republic of Congo,-4.25,15.283332999999999,CG,89154519,COG,178,\\r\\n233,Saint Barthelemy,17.88333333,-62.85,BL,9131,BLM,652,\\r\\n234,Saint Helena,-15.93333333,-5.716667,SH,6600,SHN,654,\\r\\n235,South Georgia and South Sandwich Islands,-54.283333,-36.5,GS,30,SGS,239,\\r\\n236,Svalbard,78.21666667,15.633332999999999,SJ,2642,SJM,744,\\r\\n237,The Gambia,13.45,-16.566667000000002,GM,2157846,GMB,270,\\r\\n238,US Minor Outlying Islands,38.883333,-77.0,UM,300,UMI,581,\\r\\n239,US Virgin Islands,18.35,-64.93333299999999,VI,107268,VIR,850,\\r\\n240,Kosovo,42.66666667,21.166667,KO,1793000,RKS,383,\\r\\n'}"
            ]
          },
          "metadata": {
            "tags": []
          },
          "execution_count": 4
        }
      ]
    },
    {
      "cell_type": "code",
      "metadata": {
        "id": "rM1-x9ax1AyO",
        "colab_type": "code",
        "colab": {}
      },
      "source": [
        "df = pd.read_csv('Countries.csv')"
      ],
      "execution_count": null,
      "outputs": []
    },
    {
      "cell_type": "code",
      "metadata": {
        "id": "1ZvfvXZP1j07",
        "colab_type": "code",
        "colab": {
          "base_uri": "https://localhost:8080/",
          "height": 542
        },
        "outputId": "dc0c7e72-b84b-49d8-e838-1013213105f4"
      },
      "source": [
        "#заливка (population)\n",
        "fig = px.choropleth(df,\n",
        "                    locations=\"iso_alfa\",\n",
        "                    color = \"pop\",\n",
        "                    color_continuous_scale=\"OrRd\",\n",
        "                    hover_name = \"country\",\n",
        "                    range_color =[10000,199999999]\n",
        "                    )\n",
        "\n",
        "fig.show()\n",
        "\n"
      ],
      "execution_count": null,
      "outputs": [
        {
          "output_type": "display_data",
          "data": {
            "text/html": [
              "<html>\n",
              "<head><meta charset=\"utf-8\" /></head>\n",
              "<body>\n",
              "    <div>\n",
              "            <script src=\"https://cdnjs.cloudflare.com/ajax/libs/mathjax/2.7.5/MathJax.js?config=TeX-AMS-MML_SVG\"></script><script type=\"text/javascript\">if (window.MathJax) {MathJax.Hub.Config({SVG: {font: \"STIX-Web\"}});}</script>\n",
              "                <script type=\"text/javascript\">window.PlotlyConfig = {MathJaxConfig: 'local'};</script>\n",
              "        <script src=\"https://cdn.plot.ly/plotly-latest.min.js\"></script>    \n",
              "            <div id=\"8a80973b-14b5-46a1-9968-5b831270a421\" class=\"plotly-graph-div\" style=\"height:525px; width:100%;\"></div>\n",
              "            <script type=\"text/javascript\">\n",
              "                \n",
              "                    window.PLOTLYENV=window.PLOTLYENV || {};\n",
              "                    \n",
              "                if (document.getElementById(\"8a80973b-14b5-46a1-9968-5b831270a421\")) {\n",
              "                    Plotly.newPlot(\n",
              "                        '8a80973b-14b5-46a1-9968-5b831270a421',\n",
              "                        [{\"coloraxis\": \"coloraxis\", \"geo\": \"geo\", \"hoverlabel\": {\"namelength\": 0}, \"hovertemplate\": \"<b>%{hovertext}</b><br><br>iso_alfa=%{location}<br>pop=%{z}\", \"hovertext\": [\"Afghanistan\", \"Albania\", \"Algeria\", \"American Samoa\", \"Andorra\", \"Angola\", \"Anguilla\", \"Antigua and Barbuda\", \"Argentina\", \"Armenia\", \"Aruba\", \"Australia\", \"Austria\", \"Azerbaijan\", \"Bahamas\", \"Bahrain\", \"Bangladesh\", \"Barbados\", \"Belarus\", \"Belgium\", \"Belize\", \"Benin\", \"Bermuda\", \"Bhutan\", \"Bolivia\", \"Bosnia and Herzegovina\", \"Botswana\", \"Brazil\", \"British Virgin Islands\", \"Bulgaria\", \"Burkina Faso\", \"Burundi\", \"Cambodia\", \"Cameroon\", \"Canada\", \"Cape Verde\", \"Cayman Islands\", \"Central African Republic\", \"Chad\", \"Chile\", \"China\", \"Colombia\", \"Comoros\", \"Cook Islands\", \"Costa Rica\", \"Croatia\", \"Cuba\", \"Cyprus\", \"Czech Republic\", \"Denmark\", \"Djibouti\", \"Dominica\", \"Dominican Republic\", \"Ecuador\", \"Egypt\", \"El Salvador\", \"Equatorial Guinea\", \"Eritrea\", \"Estonia\", \"Ethiopia\", \"Falkland Islands\", \"Faroe Islands\", \"Fiji\", \"Finland\", \"France\", \"French Polynesia\", \"Gabon\", \"Georgia\", \"Germany\", \"Ghana\", \"Gibraltar\", \"Greece\", \"Greenland\", \"Grenada\", \"Guam\", \"Guatemala\", \"Guinea\", \"Guinea-Bissau\", \"Guyana\", \"Haiti\", \"Honduras\", \"Hong Kong\", \"Hungary\", \"Iceland\", \"India\", \"Indonesia\", \"Iran\", \"Iraq\", \"Ireland\", \"Isle of Man\", \"Israel\", \"Italy\", \"Jamaica\", \"Japan\", \"Jordan\", \"Kazakhstan\", \"Kenya\", \"Kiribati\", \"Kuwait\", \"Kyrgyzstan\", \"Laos\", \"Latvia\", \"Lebanon\", \"Lesotho\", \"Liberia\", \"Libya\", \"Liechtenstein\", \"Lithuania\", \"Luxembourg\", \"Macau\", \"Macedonia\", \"Madagascar\", \"Malawi\", \"Malaysia\", \"Maldives\", \"Mali\", \"Malta\", \"Marshall Islands\", \"Mauritania\", \"Mauritius\", \"Mexico\", \"Moldova\", \"Monaco\", \"Mongolia\", \"Montenegro\", \"Montserrat\", \"Morocco\", \"Mozambique\", \"Myanmar\", \"Namibia\", \"Nauru\", \"Nepal\", \"Netherlands\", \"New Caledonia\", \"New Zealand\", \"Nicaragua\", \"Niger\", \"Nigeria\", \"Niue\", \"North Korea\", \"Northern Mariana Islands\", \"Norway\", \"Oman\", \"Pakistan\", \"Palau\", \"Palestine\", \"Panama\", \"Papua New Guinea\", \"Paraguay\", \"Peru\", \"Philippines\", \"Poland\", \"Portugal\", \"Puerto Rico\", \"Qatar\", \"Romania\", \"Russia\", \"Rwanda\", \"Saint Kitts and Nevis\", \"Saint Lucia\", \"Saint Martin\", \"Saint Pierre and Miquelon\", \"Saint Vincent and the Grenadines\", \"Samoa\", \"San Marino\", \"Sao Tome and Principe\", \"Saudi Arabia\", \"Senegal\", \"Serbia\", \"Seychelles\", \"Sierra Leone\", \"Singapore\", \"Sint Maarten\", \"Slovakia\", \"Slovenia\", \"Solomon Islands\", \"Somalia\", \"South Africa\", \"South Korea\", \"South Sudan\", \"Spain\", \"Sri Lanka\", \"Sudan\", \"Suriname\", \"Swaziland\", \"Sweden\", \"Switzerland\", \"Syria\", \"Taiwan\", \"Tajikistan\", \"Tanzania\", \"Thailand\", \"Timor-Leste\", \"Togo\", \"Tokelau\", \"Tonga\", \"Trinidad and Tobago\", \"Tunisia\", \"Turkey\", \"Turkmenistan\", \"Turks and Caicos Islands\", \"Tuvalu\", \"Uganda\", \"Ukraine\", \"United Arab Emirates\", \"United Kingdom\", \"United States\", \"Uruguay\", \"Uzbekistan\", \"Vanuatu\", \"Vatican City\", \"Venezuela\", \"Vietnam\", \"Wallis and Futuna\", \"Western Sahara\", \"Yemen\", \"Zambia\", \"Zimbabwe\", \"Aland Islands\", \"Antarctica\", \"British Indian Ocean Territory\", \"Brunei Darussalam\", \"Christmas Island\", \"Cocos Islands\", \"Cote d\\u2019Ivoire\", \"Cura?\\u00a7ao\", \"Democratic Republic of the Congo\", \"Federated States of Micronesia\", \"Guernsey\", \"Jersey\", \"Norfolk Island\", \"Pitcairn Islands\", \"Republic of Congo\", \"Saint Barthelemy\", \"Saint Helena\", \"South Georgia and South Sandwich Islands\", \"Svalbard\", \"The Gambia\", \"US Minor Outlying Islands\", \"US Virgin Islands\", \"Kosovo\"], \"locations\": [\"AFG\", \"ALB\", \"DZA\", \"ASM\", \"AND\", \"AGO\", \"AIA\", \"ATG\", \"ARG\", \"ARM\", \"ABW\", \"AUS\", \"AUT\", \"AZE\", \"BHS\", \"BHR\", \"BGD\", \"BRB\", \"BLR\", \"BEL\", \"BLZ\", \"BEN\", \"BMU\", \"BTN\", \"BOL\", \"BIH\", \"BWA\", \"BRA\", \"VGB\", \"BGR\", \"BFA\", \"BDI\", \"KHM\", \"CMR\", \"CAN\", \"CPV\", \"CYM\", \"CAF\", \"TCD\", \"CHL\", \"CHN\", \"COL\", \"COM\", \"COK\", \"CRI\", \"HRV\", \"CUB\", \"CYP\", \"CZE\", \"DNK\", \"DJI\", \"DMA\", \"DOM\", \"ECU\", \"EGY\", \"SLV\", \"GNQ\", \"ERI\", \"EST\", \"ETH\", \"FLK\", \"FRO\", \"FJI\", \"FIN\", \"FRA\", \"PYF\", \"GAB\", \"GEO\", \"DEU\", \"GHA\", \"GIB\", \"GRC\", \"GRL\", \"GRD\", \"GUM\", \"GTM\", \"GIN\", \"GNB\", \"GUY\", \"HTI\", \"HND\", \"HKG\", \"HUN\", \"ISL\", \"IND\", \"IDN\", \"IRN\", \"IRQ\", \"IRL\", \"IMN\", \"ISR\", \"ITA\", \"JAM\", \"JPN\", \"JOR\", \"KAZ\", \"KEN\", \"KIR\", \"KWT\", \"KGZ\", \"LAO\", \"LVA\", \"LBN\", \"LSO\", \"LBR\", \"LBY\", \"LIE\", \"LTU\", \"LUX\", \"MAC\", \"MKD\", \"MDG\", \"MWI\", \"MYS\", \"MDV\", \"MLI\", \"MLT\", \"MHL\", \"MRT\", \"MUS\", \"MEX\", \"MDA\", \"MCO\", \"MNG\", \"MNE\", \"MSR\", \"MAR\", \"MOZ\", \"MMR\", \"NAM\", \"NRU\", \"NPL\", \"NLD\", \"NCL\", \"NZL\", \"NIC\", \"NER\", \"NGA\", \"NIU\", \"PRK\", \"MNP\", \"NOR\", \"OMN\", \"PAK\", \"PLW\", \"PSE\", \"PAN\", \"PNG\", \"PRY\", \"PER\", \"PHL\", \"POL\", \"PRT\", \"PRI\", \"QAT\", \"ROU\", \"RUS\", \"RWA\", \"KNA\", \"LCA\", \"MAF\", \"SPM\", \"VCT\", \"WSM\", \"SMR\", \"STP\", \"SAU\", \"SEN\", \"SRB\", \"SYC\", \"SLE\", \"SGP\", \"SXM\", \"SVK\", \"SVN\", \"SLB\", \"SOM\", \"ZAF\", \"KOR\", \"SSD\", \"ESP\", \"LKA\", \"SDN\", \"SUR\", \"SWZ\", \"SWE\", \"CHE\", \"SYR\", \"TWN\", \"TJK\", \"TZA\", \"THA\", \"TLS\", \"TGO\", \"TKL\", \"TON\", \"TTO\", \"TUN\", \"TUR\", \"TKM\", \"TCA\", \"TUV\", \"UGA\", \"UKR\", \"ARE\", \"GBR\", \"USA\", \"URY\", \"UZB\", \"VUT\", \"VAT\", \"VEN\", \"VNM\", \"WLF\", \"ESH\", \"YEM\", \"ZMB\", \"ZWE\", \"ALA\", \"ATA\", \"IOT\", \"BRN\", \"CXR\", \"CCK\", \"CIV\", \"CUW\", \"COD\", \"FSM\", \"GGY\", \"JEY\", \"NFK\", \"PCN\", \"COG\", \"BLM\", \"SHN\", \"SGS\", \"SJM\", \"GMB\", \"UMI\", \"VIR\", \"RKS\"], \"name\": \"\", \"type\": \"choropleth\", \"z\": [38041754, 2880917, 43053054, 55312, 77142, 31825295, 14869, 97118, 44780677, 2957731, 106314, 25203198, 8955102, 10047718, 389482, 1641172, 163046161, 287025, 9452411, 11539328, 390353, 11801151, 62506, 763092, 11513100, 3301000, 2303697, 211049527, 30030, 7000119, 20321378, 11530580, 16486542, 25876380, 37411047, 549935, 64948, 4745185, 15946876, 18952038, 1433783686, 50339443, 850886, 17548, 5047561, 4130304, 11333483, 1198575, 10689209, 5771876, 973560, 71808, 10738958, 17373662, 100388073, 6453553, 1355986, 3497117, 1325648, 112078730, 3377, 48678, 889953, 5532156, 65129728, 279287, 2172579, 3996765, 83517045, 30417856, 33701, 10473455, 56672, 112003, 167294, 17581472, 12771246, 1920922, 782766, 11263077, 9746117, 7436154, 9684679, 339031, 1366417754, 270625568, 82913906, 39309783, 4882495, 84584, 8519377, 60550075, 2948279, 126860301, 10101694, 18551427, 52573973, 117606, 4207083, 6415850, 7169455, 1906743, 6855713, 2125268, 4937374, 6777452, 38019, 2759627, 615729, 640445, 2083459, 26969307, 18628747, 31949777, 530953, 19658031, 440372, 58791, 4525696, 1269668, 127575529, 4043263, 38964, 3225167, 627987, 4989, 36471769, 30366036, 54045420, 2494530, 10756, 28608710, 17097130, 282750, 4783063, 6545502, 23310715, 200963599, 1615, 25666161, 57216, 5378857, 4974986, 216565318, 18008, 4981420, 4246439, 8776109, 7044636, 32510453, 108116615, 37887768, 10226187, 2933408, 2832067, 19364557, 145872256, 12626950, 52823, 182790, 38002, 5822, 110589, 197097, 33860, 215056, 34268528, 16296364, 8772235, 97739, 7813215, 5804337, 42388, 5457013, 2078654, 669823, 15442905, 58558270, 51225308, 11062113, 46736776, 21323733, 42813238, 581372, 1148130, 10036379, 8591365, 17070135, 23773876, 9321018, 58005463, 69625582, 1293119, 8082366, 1340, 104494, 1394973, 11694719, 83429615, 5942089, 38191, 11646, 44269594, 43993638, 9770529, 67530172, 329064917, 3461734, 32981716, 299882, 799, 28515829, 96462106, 11432, 582463, 29161922, 17861030, 14645468, 28007, 4000, 2000, 428697, 1402, 596, 26104993, 158665, 84068091, 105544, 67052, 97857, 2169, 67, 89154519, 9131, 6600, 30, 2642, 2157846, 300, 107268, 1793000]}],\n",
              "                        {\"coloraxis\": {\"cmax\": 199999999, \"cmin\": 10000, \"colorbar\": {\"title\": {\"text\": \"pop\"}}, \"colorscale\": [[0.0, \"rgb(255,247,236)\"], [0.125, \"rgb(254,232,200)\"], [0.25, \"rgb(253,212,158)\"], [0.375, \"rgb(253,187,132)\"], [0.5, \"rgb(252,141,89)\"], [0.625, \"rgb(239,101,72)\"], [0.75, \"rgb(215,48,31)\"], [0.875, \"rgb(179,0,0)\"], [1.0, \"rgb(127,0,0)\"]]}, \"geo\": {\"center\": {}, \"domain\": {\"x\": [0.0, 1.0], \"y\": [0.0, 1.0]}}, \"legend\": {\"tracegroupgap\": 0}, \"margin\": {\"t\": 60}, \"template\": {\"data\": {\"bar\": [{\"error_x\": {\"color\": \"#2a3f5f\"}, \"error_y\": {\"color\": \"#2a3f5f\"}, \"marker\": {\"line\": {\"color\": \"#E5ECF6\", \"width\": 0.5}}, \"type\": \"bar\"}], \"barpolar\": [{\"marker\": {\"line\": {\"color\": \"#E5ECF6\", \"width\": 0.5}}, \"type\": \"barpolar\"}], \"carpet\": [{\"aaxis\": {\"endlinecolor\": \"#2a3f5f\", \"gridcolor\": \"white\", \"linecolor\": \"white\", \"minorgridcolor\": \"white\", \"startlinecolor\": \"#2a3f5f\"}, \"baxis\": {\"endlinecolor\": \"#2a3f5f\", \"gridcolor\": \"white\", \"linecolor\": \"white\", \"minorgridcolor\": \"white\", \"startlinecolor\": \"#2a3f5f\"}, \"type\": \"carpet\"}], \"choropleth\": [{\"colorbar\": {\"outlinewidth\": 0, \"ticks\": \"\"}, \"type\": \"choropleth\"}], \"contour\": [{\"colorbar\": {\"outlinewidth\": 0, \"ticks\": \"\"}, \"colorscale\": [[0.0, \"#0d0887\"], [0.1111111111111111, \"#46039f\"], [0.2222222222222222, \"#7201a8\"], [0.3333333333333333, \"#9c179e\"], [0.4444444444444444, \"#bd3786\"], [0.5555555555555556, \"#d8576b\"], [0.6666666666666666, \"#ed7953\"], [0.7777777777777778, \"#fb9f3a\"], [0.8888888888888888, \"#fdca26\"], [1.0, \"#f0f921\"]], \"type\": \"contour\"}], \"contourcarpet\": [{\"colorbar\": {\"outlinewidth\": 0, \"ticks\": \"\"}, \"type\": \"contourcarpet\"}], \"heatmap\": [{\"colorbar\": {\"outlinewidth\": 0, \"ticks\": \"\"}, \"colorscale\": [[0.0, \"#0d0887\"], [0.1111111111111111, \"#46039f\"], [0.2222222222222222, \"#7201a8\"], [0.3333333333333333, \"#9c179e\"], [0.4444444444444444, \"#bd3786\"], [0.5555555555555556, \"#d8576b\"], [0.6666666666666666, \"#ed7953\"], [0.7777777777777778, \"#fb9f3a\"], [0.8888888888888888, \"#fdca26\"], [1.0, \"#f0f921\"]], \"type\": \"heatmap\"}], \"heatmapgl\": [{\"colorbar\": {\"outlinewidth\": 0, \"ticks\": \"\"}, \"colorscale\": [[0.0, \"#0d0887\"], [0.1111111111111111, \"#46039f\"], [0.2222222222222222, \"#7201a8\"], [0.3333333333333333, \"#9c179e\"], [0.4444444444444444, \"#bd3786\"], [0.5555555555555556, \"#d8576b\"], [0.6666666666666666, \"#ed7953\"], [0.7777777777777778, \"#fb9f3a\"], [0.8888888888888888, \"#fdca26\"], [1.0, \"#f0f921\"]], \"type\": \"heatmapgl\"}], \"histogram\": [{\"marker\": {\"colorbar\": {\"outlinewidth\": 0, \"ticks\": \"\"}}, \"type\": \"histogram\"}], \"histogram2d\": [{\"colorbar\": {\"outlinewidth\": 0, \"ticks\": \"\"}, \"colorscale\": [[0.0, \"#0d0887\"], [0.1111111111111111, \"#46039f\"], [0.2222222222222222, \"#7201a8\"], [0.3333333333333333, \"#9c179e\"], [0.4444444444444444, \"#bd3786\"], [0.5555555555555556, \"#d8576b\"], [0.6666666666666666, \"#ed7953\"], [0.7777777777777778, \"#fb9f3a\"], [0.8888888888888888, \"#fdca26\"], [1.0, \"#f0f921\"]], \"type\": \"histogram2d\"}], \"histogram2dcontour\": [{\"colorbar\": {\"outlinewidth\": 0, \"ticks\": \"\"}, \"colorscale\": [[0.0, \"#0d0887\"], [0.1111111111111111, \"#46039f\"], [0.2222222222222222, \"#7201a8\"], [0.3333333333333333, \"#9c179e\"], [0.4444444444444444, \"#bd3786\"], [0.5555555555555556, \"#d8576b\"], [0.6666666666666666, \"#ed7953\"], [0.7777777777777778, \"#fb9f3a\"], [0.8888888888888888, \"#fdca26\"], [1.0, \"#f0f921\"]], \"type\": \"histogram2dcontour\"}], \"mesh3d\": [{\"colorbar\": {\"outlinewidth\": 0, \"ticks\": \"\"}, \"type\": \"mesh3d\"}], \"parcoords\": [{\"line\": {\"colorbar\": {\"outlinewidth\": 0, \"ticks\": \"\"}}, \"type\": \"parcoords\"}], \"pie\": [{\"automargin\": true, \"type\": \"pie\"}], \"scatter\": [{\"marker\": {\"colorbar\": {\"outlinewidth\": 0, \"ticks\": \"\"}}, \"type\": \"scatter\"}], \"scatter3d\": [{\"line\": {\"colorbar\": {\"outlinewidth\": 0, \"ticks\": \"\"}}, \"marker\": {\"colorbar\": {\"outlinewidth\": 0, \"ticks\": \"\"}}, \"type\": \"scatter3d\"}], \"scattercarpet\": [{\"marker\": {\"colorbar\": {\"outlinewidth\": 0, \"ticks\": \"\"}}, \"type\": \"scattercarpet\"}], \"scattergeo\": [{\"marker\": {\"colorbar\": {\"outlinewidth\": 0, \"ticks\": \"\"}}, \"type\": \"scattergeo\"}], \"scattergl\": [{\"marker\": {\"colorbar\": {\"outlinewidth\": 0, \"ticks\": \"\"}}, \"type\": \"scattergl\"}], \"scattermapbox\": [{\"marker\": {\"colorbar\": {\"outlinewidth\": 0, \"ticks\": \"\"}}, \"type\": \"scattermapbox\"}], \"scatterpolar\": [{\"marker\": {\"colorbar\": {\"outlinewidth\": 0, \"ticks\": \"\"}}, \"type\": \"scatterpolar\"}], \"scatterpolargl\": [{\"marker\": {\"colorbar\": {\"outlinewidth\": 0, \"ticks\": \"\"}}, \"type\": \"scatterpolargl\"}], \"scatterternary\": [{\"marker\": {\"colorbar\": {\"outlinewidth\": 0, \"ticks\": \"\"}}, \"type\": \"scatterternary\"}], \"surface\": [{\"colorbar\": {\"outlinewidth\": 0, \"ticks\": \"\"}, \"colorscale\": [[0.0, \"#0d0887\"], [0.1111111111111111, \"#46039f\"], [0.2222222222222222, \"#7201a8\"], [0.3333333333333333, \"#9c179e\"], [0.4444444444444444, \"#bd3786\"], [0.5555555555555556, \"#d8576b\"], [0.6666666666666666, \"#ed7953\"], [0.7777777777777778, \"#fb9f3a\"], [0.8888888888888888, \"#fdca26\"], [1.0, \"#f0f921\"]], \"type\": \"surface\"}], \"table\": [{\"cells\": {\"fill\": {\"color\": \"#EBF0F8\"}, \"line\": {\"color\": \"white\"}}, \"header\": {\"fill\": {\"color\": \"#C8D4E3\"}, \"line\": {\"color\": \"white\"}}, \"type\": \"table\"}]}, \"layout\": {\"annotationdefaults\": {\"arrowcolor\": \"#2a3f5f\", \"arrowhead\": 0, \"arrowwidth\": 1}, \"coloraxis\": {\"colorbar\": {\"outlinewidth\": 0, \"ticks\": \"\"}}, \"colorscale\": {\"diverging\": [[0, \"#8e0152\"], [0.1, \"#c51b7d\"], [0.2, \"#de77ae\"], [0.3, \"#f1b6da\"], [0.4, \"#fde0ef\"], [0.5, \"#f7f7f7\"], [0.6, \"#e6f5d0\"], [0.7, \"#b8e186\"], [0.8, \"#7fbc41\"], [0.9, \"#4d9221\"], [1, \"#276419\"]], \"sequential\": [[0.0, \"#0d0887\"], [0.1111111111111111, \"#46039f\"], [0.2222222222222222, \"#7201a8\"], [0.3333333333333333, \"#9c179e\"], [0.4444444444444444, \"#bd3786\"], [0.5555555555555556, \"#d8576b\"], [0.6666666666666666, \"#ed7953\"], [0.7777777777777778, \"#fb9f3a\"], [0.8888888888888888, \"#fdca26\"], [1.0, \"#f0f921\"]], \"sequentialminus\": [[0.0, \"#0d0887\"], [0.1111111111111111, \"#46039f\"], [0.2222222222222222, \"#7201a8\"], [0.3333333333333333, \"#9c179e\"], [0.4444444444444444, \"#bd3786\"], [0.5555555555555556, \"#d8576b\"], [0.6666666666666666, \"#ed7953\"], [0.7777777777777778, \"#fb9f3a\"], [0.8888888888888888, \"#fdca26\"], [1.0, \"#f0f921\"]]}, \"colorway\": [\"#636efa\", \"#EF553B\", \"#00cc96\", \"#ab63fa\", \"#FFA15A\", \"#19d3f3\", \"#FF6692\", \"#B6E880\", \"#FF97FF\", \"#FECB52\"], \"font\": {\"color\": \"#2a3f5f\"}, \"geo\": {\"bgcolor\": \"white\", \"lakecolor\": \"white\", \"landcolor\": \"#E5ECF6\", \"showlakes\": true, \"showland\": true, \"subunitcolor\": \"white\"}, \"hoverlabel\": {\"align\": \"left\"}, \"hovermode\": \"closest\", \"mapbox\": {\"style\": \"light\"}, \"paper_bgcolor\": \"white\", \"plot_bgcolor\": \"#E5ECF6\", \"polar\": {\"angularaxis\": {\"gridcolor\": \"white\", \"linecolor\": \"white\", \"ticks\": \"\"}, \"bgcolor\": \"#E5ECF6\", \"radialaxis\": {\"gridcolor\": \"white\", \"linecolor\": \"white\", \"ticks\": \"\"}}, \"scene\": {\"xaxis\": {\"backgroundcolor\": \"#E5ECF6\", \"gridcolor\": \"white\", \"gridwidth\": 2, \"linecolor\": \"white\", \"showbackground\": true, \"ticks\": \"\", \"zerolinecolor\": \"white\"}, \"yaxis\": {\"backgroundcolor\": \"#E5ECF6\", \"gridcolor\": \"white\", \"gridwidth\": 2, \"linecolor\": \"white\", \"showbackground\": true, \"ticks\": \"\", \"zerolinecolor\": \"white\"}, \"zaxis\": {\"backgroundcolor\": \"#E5ECF6\", \"gridcolor\": \"white\", \"gridwidth\": 2, \"linecolor\": \"white\", \"showbackground\": true, \"ticks\": \"\", \"zerolinecolor\": \"white\"}}, \"shapedefaults\": {\"line\": {\"color\": \"#2a3f5f\"}}, \"ternary\": {\"aaxis\": {\"gridcolor\": \"white\", \"linecolor\": \"white\", \"ticks\": \"\"}, \"baxis\": {\"gridcolor\": \"white\", \"linecolor\": \"white\", \"ticks\": \"\"}, \"bgcolor\": \"#E5ECF6\", \"caxis\": {\"gridcolor\": \"white\", \"linecolor\": \"white\", \"ticks\": \"\"}}, \"title\": {\"x\": 0.05}, \"xaxis\": {\"automargin\": true, \"gridcolor\": \"white\", \"linecolor\": \"white\", \"ticks\": \"\", \"title\": {\"standoff\": 15}, \"zerolinecolor\": \"white\", \"zerolinewidth\": 2}, \"yaxis\": {\"automargin\": true, \"gridcolor\": \"white\", \"linecolor\": \"white\", \"ticks\": \"\", \"title\": {\"standoff\": 15}, \"zerolinecolor\": \"white\", \"zerolinewidth\": 2}}}},\n",
              "                        {\"responsive\": true}\n",
              "                    ).then(function(){\n",
              "                            \n",
              "var gd = document.getElementById('8a80973b-14b5-46a1-9968-5b831270a421');\n",
              "var x = new MutationObserver(function (mutations, observer) {{\n",
              "        var display = window.getComputedStyle(gd).display;\n",
              "        if (!display || display === 'none') {{\n",
              "            console.log([gd, 'removed!']);\n",
              "            Plotly.purge(gd);\n",
              "            observer.disconnect();\n",
              "        }}\n",
              "}});\n",
              "\n",
              "// Listen for the removal of the full notebook cells\n",
              "var notebookContainer = gd.closest('#notebook-container');\n",
              "if (notebookContainer) {{\n",
              "    x.observe(notebookContainer, {childList: true});\n",
              "}}\n",
              "\n",
              "// Listen for the clearing of the current output cell\n",
              "var outputEl = gd.closest('.output');\n",
              "if (outputEl) {{\n",
              "    x.observe(outputEl, {childList: true});\n",
              "}}\n",
              "\n",
              "                        })\n",
              "                };\n",
              "                \n",
              "            </script>\n",
              "        </div>\n",
              "</body>\n",
              "</html>"
            ]
          },
          "metadata": {
            "tags": []
          }
        }
      ]
    },
    {
      "cell_type": "code",
      "metadata": {
        "id": "Ohyg_irY1ovi",
        "colab_type": "code",
        "colab": {
          "base_uri": "https://localhost:8080/",
          "height": 243
        },
        "outputId": "adae1f70-fb1a-4291-9772-49fe2668cb9d"
      },
      "source": [
        "#population= df['pop']\n",
        "df['Inf'] = 0\n",
        "df['Rec'] = 0\n",
        "#таблица стран с соответ. данными\n",
        "listOfCountries = df['country']\n",
        "\n",
        "for i in range(1,21):\n",
        "    s = 'Inf'+str(i)\n",
        "    df[s]=0\n",
        "\n",
        "df.head()"
      ],
      "execution_count": null,
      "outputs": [
        {
          "output_type": "execute_result",
          "data": {
            "text/html": [
              "<div>\n",
              "<style scoped>\n",
              "    .dataframe tbody tr th:only-of-type {\n",
              "        vertical-align: middle;\n",
              "    }\n",
              "\n",
              "    .dataframe tbody tr th {\n",
              "        vertical-align: top;\n",
              "    }\n",
              "\n",
              "    .dataframe thead th {\n",
              "        text-align: right;\n",
              "    }\n",
              "</style>\n",
              "<table border=\"1\" class=\"dataframe\">\n",
              "  <thead>\n",
              "    <tr style=\"text-align: right;\">\n",
              "      <th></th>\n",
              "      <th>Unnamed: 0</th>\n",
              "      <th>country</th>\n",
              "      <th>Log</th>\n",
              "      <th>Lon</th>\n",
              "      <th>code</th>\n",
              "      <th>pop</th>\n",
              "      <th>iso_alfa</th>\n",
              "      <th>Country code</th>\n",
              "      <th>GDP</th>\n",
              "      <th>Inf</th>\n",
              "      <th>Rec</th>\n",
              "      <th>Inf1</th>\n",
              "      <th>Inf2</th>\n",
              "      <th>Inf3</th>\n",
              "      <th>Inf4</th>\n",
              "      <th>Inf5</th>\n",
              "      <th>Inf6</th>\n",
              "      <th>Inf7</th>\n",
              "      <th>Inf8</th>\n",
              "      <th>Inf9</th>\n",
              "      <th>Inf10</th>\n",
              "      <th>Inf11</th>\n",
              "      <th>Inf12</th>\n",
              "      <th>Inf13</th>\n",
              "      <th>Inf14</th>\n",
              "      <th>Inf15</th>\n",
              "      <th>Inf16</th>\n",
              "      <th>Inf17</th>\n",
              "      <th>Inf18</th>\n",
              "      <th>Inf19</th>\n",
              "      <th>Inf20</th>\n",
              "    </tr>\n",
              "  </thead>\n",
              "  <tbody>\n",
              "    <tr>\n",
              "      <th>0</th>\n",
              "      <td>0</td>\n",
              "      <td>Afghanistan</td>\n",
              "      <td>34.516667</td>\n",
              "      <td>69.183333</td>\n",
              "      <td>AF</td>\n",
              "      <td>38041754</td>\n",
              "      <td>AFG</td>\n",
              "      <td>4</td>\n",
              "      <td>700.0</td>\n",
              "      <td>0</td>\n",
              "      <td>0</td>\n",
              "      <td>0</td>\n",
              "      <td>0</td>\n",
              "      <td>0</td>\n",
              "      <td>0</td>\n",
              "      <td>0</td>\n",
              "      <td>0</td>\n",
              "      <td>0</td>\n",
              "      <td>0</td>\n",
              "      <td>0</td>\n",
              "      <td>0</td>\n",
              "      <td>0</td>\n",
              "      <td>0</td>\n",
              "      <td>0</td>\n",
              "      <td>0</td>\n",
              "      <td>0</td>\n",
              "      <td>0</td>\n",
              "      <td>0</td>\n",
              "      <td>0</td>\n",
              "      <td>0</td>\n",
              "      <td>0</td>\n",
              "    </tr>\n",
              "    <tr>\n",
              "      <th>1</th>\n",
              "      <td>1</td>\n",
              "      <td>Albania</td>\n",
              "      <td>41.316667</td>\n",
              "      <td>19.816667</td>\n",
              "      <td>AL</td>\n",
              "      <td>2880917</td>\n",
              "      <td>ALB</td>\n",
              "      <td>8</td>\n",
              "      <td>4500.0</td>\n",
              "      <td>0</td>\n",
              "      <td>0</td>\n",
              "      <td>0</td>\n",
              "      <td>0</td>\n",
              "      <td>0</td>\n",
              "      <td>0</td>\n",
              "      <td>0</td>\n",
              "      <td>0</td>\n",
              "      <td>0</td>\n",
              "      <td>0</td>\n",
              "      <td>0</td>\n",
              "      <td>0</td>\n",
              "      <td>0</td>\n",
              "      <td>0</td>\n",
              "      <td>0</td>\n",
              "      <td>0</td>\n",
              "      <td>0</td>\n",
              "      <td>0</td>\n",
              "      <td>0</td>\n",
              "      <td>0</td>\n",
              "      <td>0</td>\n",
              "      <td>0</td>\n",
              "    </tr>\n",
              "    <tr>\n",
              "      <th>2</th>\n",
              "      <td>2</td>\n",
              "      <td>Algeria</td>\n",
              "      <td>36.750000</td>\n",
              "      <td>3.050000</td>\n",
              "      <td>DZ</td>\n",
              "      <td>43053054</td>\n",
              "      <td>DZA</td>\n",
              "      <td>12</td>\n",
              "      <td>6000.0</td>\n",
              "      <td>0</td>\n",
              "      <td>0</td>\n",
              "      <td>0</td>\n",
              "      <td>0</td>\n",
              "      <td>0</td>\n",
              "      <td>0</td>\n",
              "      <td>0</td>\n",
              "      <td>0</td>\n",
              "      <td>0</td>\n",
              "      <td>0</td>\n",
              "      <td>0</td>\n",
              "      <td>0</td>\n",
              "      <td>0</td>\n",
              "      <td>0</td>\n",
              "      <td>0</td>\n",
              "      <td>0</td>\n",
              "      <td>0</td>\n",
              "      <td>0</td>\n",
              "      <td>0</td>\n",
              "      <td>0</td>\n",
              "      <td>0</td>\n",
              "      <td>0</td>\n",
              "    </tr>\n",
              "    <tr>\n",
              "      <th>3</th>\n",
              "      <td>3</td>\n",
              "      <td>American Samoa</td>\n",
              "      <td>-14.266667</td>\n",
              "      <td>-170.700000</td>\n",
              "      <td>AS</td>\n",
              "      <td>55312</td>\n",
              "      <td>ASM</td>\n",
              "      <td>16</td>\n",
              "      <td>8000.0</td>\n",
              "      <td>0</td>\n",
              "      <td>0</td>\n",
              "      <td>0</td>\n",
              "      <td>0</td>\n",
              "      <td>0</td>\n",
              "      <td>0</td>\n",
              "      <td>0</td>\n",
              "      <td>0</td>\n",
              "      <td>0</td>\n",
              "      <td>0</td>\n",
              "      <td>0</td>\n",
              "      <td>0</td>\n",
              "      <td>0</td>\n",
              "      <td>0</td>\n",
              "      <td>0</td>\n",
              "      <td>0</td>\n",
              "      <td>0</td>\n",
              "      <td>0</td>\n",
              "      <td>0</td>\n",
              "      <td>0</td>\n",
              "      <td>0</td>\n",
              "      <td>0</td>\n",
              "    </tr>\n",
              "    <tr>\n",
              "      <th>4</th>\n",
              "      <td>4</td>\n",
              "      <td>Andorra</td>\n",
              "      <td>42.500000</td>\n",
              "      <td>1.516667</td>\n",
              "      <td>AD</td>\n",
              "      <td>77142</td>\n",
              "      <td>AND</td>\n",
              "      <td>20</td>\n",
              "      <td>19000.0</td>\n",
              "      <td>0</td>\n",
              "      <td>0</td>\n",
              "      <td>0</td>\n",
              "      <td>0</td>\n",
              "      <td>0</td>\n",
              "      <td>0</td>\n",
              "      <td>0</td>\n",
              "      <td>0</td>\n",
              "      <td>0</td>\n",
              "      <td>0</td>\n",
              "      <td>0</td>\n",
              "      <td>0</td>\n",
              "      <td>0</td>\n",
              "      <td>0</td>\n",
              "      <td>0</td>\n",
              "      <td>0</td>\n",
              "      <td>0</td>\n",
              "      <td>0</td>\n",
              "      <td>0</td>\n",
              "      <td>0</td>\n",
              "      <td>0</td>\n",
              "      <td>0</td>\n",
              "    </tr>\n",
              "  </tbody>\n",
              "</table>\n",
              "</div>"
            ],
            "text/plain": [
              "   Unnamed: 0         country        Log  ...  Inf18 Inf19  Inf20\n",
              "0           0     Afghanistan  34.516667  ...      0     0      0\n",
              "1           1         Albania  41.316667  ...      0     0      0\n",
              "2           2         Algeria  36.750000  ...      0     0      0\n",
              "3           3  American Samoa -14.266667  ...      0     0      0\n",
              "4           4         Andorra  42.500000  ...      0     0      0\n",
              "\n",
              "[5 rows x 31 columns]"
            ]
          },
          "metadata": {
            "tags": []
          },
          "execution_count": 7
        }
      ]
    },
    {
      "cell_type": "code",
      "metadata": {
        "id": "VdkYimIy12BH",
        "colab_type": "code",
        "colab": {}
      },
      "source": [
        "import matplotlib.pyplot as plt\n",
        "import numpy\n",
        "import scipy.integrate\n",
        "\n",
        "sus = []\n",
        "inf = []\n",
        "rec = []\n",
        "\n",
        "def SIR_model(y, t, betta, gamma):\n",
        "    S, I, R = y\n",
        "    \n",
        "    dS_dt = -betta*S*I\n",
        "    dI_dt = betta*S*I - gamma*I\n",
        "    dR_dt = gamma*I\n",
        "    \n",
        "    sus.append(dS_dt)\n",
        "    inf.append(dI_dt)\n",
        "    rec.append(dR_dt)\n",
        "    \n",
        "    return ([dS_dt, dI_dt, dR_dt])"
      ],
      "execution_count": null,
      "outputs": []
    },
    {
      "cell_type": "code",
      "metadata": {
        "id": "EBBS1YAw12ph",
        "colab_type": "code",
        "colab": {
          "base_uri": "https://localhost:8080/",
          "height": 278
        },
        "outputId": "af695f94-a94d-4a36-aea9-cfbdaa5bf463"
      },
      "source": [
        "#начальные параметры\n",
        "S0 = 1\n",
        "I0 = 0.1\n",
        "R0 = 0.0\n",
        "\n",
        "beta = 0.75\n",
        "gamma = 0.05\n",
        "\n",
        "#Time vector\n",
        "t = numpy.linspace(0,100,1000)\n",
        "\n",
        "solution = scipy.integrate.odeint(SIR_model, [S0, I0, R0], t, args=(beta, gamma))\n",
        "solution = numpy.array(solution) \n",
        "\n",
        "#Plot\n",
        "plt.figure(figsize=[6,4])\n",
        "plt.plot(t, solution[:,0], label = 'S(t)')\n",
        "plt.plot(t, solution[:,1], label = 'I(t)')\n",
        "plt.plot(t, solution[:,2], label = 'R(t)')\n",
        "plt.grid()\n",
        "plt.legend()\n",
        "plt.xlabel('time')\n",
        "plt.ylabel('prop')\n",
        "plt.show()"
      ],
      "execution_count": null,
      "outputs": [
        {
          "output_type": "display_data",
          "data": {
            "image/png": "[encoded data removed]",
            "text/plain": [
              "<Figure size 432x288 with 1 Axes>"
            ]
          },
          "metadata": {
            "tags": [],
            "needs_background": "light"
          }
        }
      ]
    },
    {
      "cell_type": "code",
      "metadata": {
        "id": "3XoGhwOx19tS",
        "colab_type": "code",
        "colab": {
          "base_uri": "https://localhost:8080/",
          "height": 542
        },
        "outputId": "903f7ffe-47fb-41d7-d5d7-374b2aaa577e"
      },
      "source": [
        "currentPOP = 0\n",
        "currentNum = 0\n",
        "\n",
        "for i in range(len(df)):\n",
        "    if df['country'][i] == str('China'):\n",
        "        currentPOP = df['pop'][i]\n",
        "        currentNum = i\n",
        "\n",
        "while i < len(solution[:,1]):\n",
        "    \n",
        "    df['Inf'][currentNum] = currentPOP*solution[:,1][i]\n",
        "    i+=50\n",
        "    # create map\n",
        "    fig = px.choropleth(df,\n",
        "                    locations=\"iso_alfa\",\n",
        "                    color = \"Inf\",\n",
        "                    color_continuous_scale=\"OrRd\",\n",
        "                    hover_name = \"country\",\n",
        "                    range_color =[0,currentPOP]\n",
        "                    )\n",
        "    j = 0\n",
        "    if(i == 50):\n",
        "        j = 1\n",
        "    else:\n",
        "        j = i\n",
        "        j -= 50\n",
        "    day = 'day: '+ str(j)\n",
        "    fig.update_layout(title_text = day)\n",
        "\n",
        "    filepath = os.path.join(output_path, str(i)+'_violence.png')\n",
        "    fig.write_image(str(i)+'_violence.png')\n",
        "fig.show()"
      ],
      "execution_count": null,
      "outputs": [
        {
          "output_type": "display_data",
          "data": {
            "text/html": [
              "<html>\n",
              "<head><meta charset=\"utf-8\" /></head>\n",
              "<body>\n",
              "    <div>\n",
              "            <script src=\"https://cdnjs.cloudflare.com/ajax/libs/mathjax/2.7.5/MathJax.js?config=TeX-AMS-MML_SVG\"></script><script type=\"text/javascript\">if (window.MathJax) {MathJax.Hub.Config({SVG: {font: \"STIX-Web\"}});}</script>\n",
              "                <script type=\"text/javascript\">window.PlotlyConfig = {MathJaxConfig: 'local'};</script>\n",
              "        <script src=\"https://cdn.plot.ly/plotly-latest.min.js\"></script>    \n",
              "            <div id=\"33cc858b-2cec-4b1a-b8df-9f70e644bbbc\" class=\"plotly-graph-div\" style=\"height:525px; width:100%;\"></div>\n",
              "            <script type=\"text/javascript\">\n",
              "                \n",
              "                    window.PLOTLYENV=window.PLOTLYENV || {};\n",
              "                    \n",
              "                if (document.getElementById(\"33cc858b-2cec-4b1a-b8df-9f70e644bbbc\")) {\n",
              "                    Plotly.newPlot(\n",
              "                        '33cc858b-2cec-4b1a-b8df-9f70e644bbbc',\n",
              "                        [{\"coloraxis\": \"coloraxis\", \"geo\": \"geo\", \"hoverlabel\": {\"namelength\": 0}, \"hovertemplate\": \"<b>%{hovertext}</b><br><br>Inf=0<br>iso_alfa=%{location}<br>pop=%{z}\", \"hovertext\": [\"Afghanistan\", \"Albania\", \"Algeria\", \"American Samoa\", \"Andorra\", \"Angola\", \"Anguilla\", \"Antigua and Barbuda\", \"Argentina\", \"Armenia\", \"Aruba\", \"Australia\", \"Austria\", \"Azerbaijan\", \"Bahamas\", \"Bahrain\", \"Bangladesh\", \"Barbados\", \"Belarus\", \"Belgium\", \"Belize\", \"Benin\", \"Bermuda\", \"Bhutan\", \"Bolivia\", \"Bosnia and Herzegovina\", \"Botswana\", \"Brazil\", \"British Virgin Islands\", \"Bulgaria\", \"Burkina Faso\", \"Burundi\", \"Cambodia\", \"Cameroon\", \"Canada\", \"Cape Verde\", \"Cayman Islands\", \"Central African Republic\", \"Chad\", \"Chile\", \"China\", \"Colombia\", \"Comoros\", \"Cook Islands\", \"Costa Rica\", \"Croatia\", \"Cuba\", \"Cyprus\", \"Czech Republic\", \"Denmark\", \"Djibouti\", \"Dominica\", \"Dominican Republic\", \"Ecuador\", \"Egypt\", \"El Salvador\", \"Equatorial Guinea\", \"Eritrea\", \"Estonia\", \"Ethiopia\", \"Falkland Islands\", \"Faroe Islands\", \"Fiji\", \"Finland\", \"France\", \"French Polynesia\", \"Gabon\", \"Georgia\", \"Germany\", \"Ghana\", \"Gibraltar\", \"Greece\", \"Greenland\", \"Grenada\", \"Guam\", \"Guatemala\", \"Guinea\", \"Guinea-Bissau\", \"Guyana\", \"Haiti\", \"Honduras\", \"Hong Kong\", \"Hungary\", \"Iceland\", \"India\", \"Indonesia\", \"Iran\", \"Iraq\", \"Ireland\", \"Isle of Man\", \"Israel\", \"Italy\", \"Jamaica\", \"Japan\", \"Jordan\", \"Kazakhstan\", \"Kenya\", \"Kiribati\", \"Kuwait\", \"Kyrgyzstan\", \"Laos\", \"Latvia\", \"Lebanon\", \"Lesotho\", \"Liberia\", \"Libya\", \"Liechtenstein\", \"Lithuania\", \"Luxembourg\", \"Macau\", \"Macedonia\", \"Madagascar\", \"Malawi\", \"Malaysia\", \"Maldives\", \"Mali\", \"Malta\", \"Marshall Islands\", \"Mauritania\", \"Mauritius\", \"Mexico\", \"Moldova\", \"Monaco\", \"Mongolia\", \"Montenegro\", \"Montserrat\", \"Morocco\", \"Mozambique\", \"Myanmar\", \"Namibia\", \"Nauru\", \"Nepal\", \"Netherlands\", \"New Caledonia\", \"New Zealand\", \"Nicaragua\", \"Niger\", \"Nigeria\", \"Niue\", \"North Korea\", \"Northern Mariana Islands\", \"Norway\", \"Oman\", \"Pakistan\", \"Palau\", \"Palestine\", \"Panama\", \"Papua New Guinea\", \"Paraguay\", \"Peru\", \"Philippines\", \"Poland\", \"Portugal\", \"Puerto Rico\", \"Qatar\", \"Romania\", \"Russia\", \"Rwanda\", \"Saint Kitts and Nevis\", \"Saint Lucia\", \"Saint Martin\", \"Saint Pierre and Miquelon\", \"Saint Vincent and the Grenadines\", \"Samoa\", \"San Marino\", \"Sao Tome and Principe\", \"Saudi Arabia\", \"Senegal\", \"Serbia\", \"Seychelles\", \"Sierra Leone\", \"Singapore\", \"Sint Maarten\", \"Slovakia\", \"Slovenia\", \"Solomon Islands\", \"Somalia\", \"South Africa\", \"South Korea\", \"South Sudan\", \"Spain\", \"Sri Lanka\", \"Sudan\", \"Suriname\", \"Swaziland\", \"Sweden\", \"Switzerland\", \"Syria\", \"Taiwan\", \"Tajikistan\", \"Tanzania\", \"Thailand\", \"Timor-Leste\", \"Togo\", \"Tokelau\", \"Tonga\", \"Trinidad and Tobago\", \"Tunisia\", \"Turkey\", \"Turkmenistan\", \"Turks and Caicos Islands\", \"Tuvalu\", \"Uganda\", \"Ukraine\", \"United Arab Emirates\", \"United Kingdom\", \"United States\", \"Uruguay\", \"Uzbekistan\", \"Vanuatu\", \"Vatican City\", \"Venezuela\", \"Vietnam\", \"Wallis and Futuna\", \"Western Sahara\", \"Yemen\", \"Zambia\", \"Zimbabwe\", \"Aland Islands\", \"Antarctica\", \"British Indian Ocean Territory\", \"Brunei Darussalam\", \"Christmas Island\", \"Cocos Islands\", \"Cote d\\u2019Ivoire\", \"Cura?\\u00a7ao\", \"Democratic Republic of the Congo\", \"Federated States of Micronesia\", \"Guernsey\", \"Jersey\", \"Norfolk Island\", \"Pitcairn Islands\", \"Republic of Congo\", \"Saint Barthelemy\", \"Saint Helena\", \"South Georgia and South Sandwich Islands\", \"Svalbard\", \"The Gambia\", \"US Minor Outlying Islands\", \"US Virgin Islands\", \"Kosovo\"], \"locations\": [\"AFG\", \"ALB\", \"DZA\", \"ASM\", \"AND\", \"AGO\", \"AIA\", \"ATG\", \"ARG\", \"ARM\", \"ABW\", \"AUS\", \"AUT\", \"AZE\", \"BHS\", \"BHR\", \"BGD\", \"BRB\", \"BLR\", \"BEL\", \"BLZ\", \"BEN\", \"BMU\", \"BTN\", \"BOL\", \"BIH\", \"BWA\", \"BRA\", \"VGB\", \"BGR\", \"BFA\", \"BDI\", \"KHM\", \"CMR\", \"CAN\", \"CPV\", \"CYM\", \"CAF\", \"TCD\", \"CHL\", \"CHN\", \"COL\", \"COM\", \"COK\", \"CRI\", \"HRV\", \"CUB\", \"CYP\", \"CZE\", \"DNK\", \"DJI\", \"DMA\", \"DOM\", \"ECU\", \"EGY\", \"SLV\", \"GNQ\", \"ERI\", \"EST\", \"ETH\", \"FLK\", \"FRO\", \"FJI\", \"FIN\", \"FRA\", \"PYF\", \"GAB\", \"GEO\", \"DEU\", \"GHA\", \"GIB\", \"GRC\", \"GRL\", \"GRD\", \"GUM\", \"GTM\", \"GIN\", \"GNB\", \"GUY\", \"HTI\", \"HND\", \"HKG\", \"HUN\", \"ISL\", \"IND\", \"IDN\", \"IRN\", \"IRQ\", \"IRL\", \"IMN\", \"ISR\", \"ITA\", \"JAM\", \"JPN\", \"JOR\", \"KAZ\", \"KEN\", \"KIR\", \"KWT\", \"KGZ\", \"LAO\", \"LVA\", \"LBN\", \"LSO\", \"LBR\", \"LBY\", \"LIE\", \"LTU\", \"LUX\", \"MAC\", \"MKD\", \"MDG\", \"MWI\", \"MYS\", \"MDV\", \"MLI\", \"MLT\", \"MHL\", \"MRT\", \"MUS\", \"MEX\", \"MDA\", \"MCO\", \"MNG\", \"MNE\", \"MSR\", \"MAR\", \"MOZ\", \"MMR\", \"NAM\", \"NRU\", \"NPL\", \"NLD\", \"NCL\", \"NZL\", \"NIC\", \"NER\", \"NGA\", \"NIU\", \"PRK\", \"MNP\", \"NOR\", \"OMN\", \"PAK\", \"PLW\", \"PSE\", \"PAN\", \"PNG\", \"PRY\", \"PER\", \"PHL\", \"POL\", \"PRT\", \"PRI\", \"QAT\", \"ROU\", \"RUS\", \"RWA\", \"KNA\", \"LCA\", \"MAF\", \"SPM\", \"VCT\", \"WSM\", \"SMR\", \"STP\", \"SAU\", \"SEN\", \"SRB\", \"SYC\", \"SLE\", \"SGP\", \"SXM\", \"SVK\", \"SVN\", \"SLB\", \"SOM\", \"ZAF\", \"KOR\", \"SSD\", \"ESP\", \"LKA\", \"SDN\", \"SUR\", \"SWZ\", \"SWE\", \"CHE\", \"SYR\", \"TWN\", \"TJK\", \"TZA\", \"THA\", \"TLS\", \"TGO\", \"TKL\", \"TON\", \"TTO\", \"TUN\", \"TUR\", \"TKM\", \"TCA\", \"TUV\", \"UGA\", \"UKR\", \"ARE\", \"GBR\", \"USA\", \"URY\", \"UZB\", \"VUT\", \"VAT\", \"VEN\", \"VNM\", \"WLF\", \"ESH\", \"YEM\", \"ZMB\", \"ZWE\", \"ALA\", \"ATA\", \"IOT\", \"BRN\", \"CXR\", \"CCK\", \"CIV\", \"CUW\", \"COD\", \"FSM\", \"GGY\", \"JEY\", \"NFK\", \"PCN\", \"COG\", \"BLM\", \"SHN\", \"SGS\", \"SJM\", \"GMB\", \"UMI\", \"VIR\", \"RKS\"], \"name\": \"\", \"type\": \"choropleth\", \"z\": [38041754, 2880917, 43053054, 55312, 77142, 31825295, 14869, 97118, 44780677, 2957731, 106314, 25203198, 8955102, 10047718, 389482, 1641172, 163046161, 287025, 9452411, 11539328, 390353, 11801151, 62506, 763092, 11513100, 3301000, 2303697, 211049527, 30030, 7000119, 20321378, 11530580, 16486542, 25876380, 37411047, 549935, 64948, 4745185, 15946876, 18952038, 1433783686, 50339443, 850886, 17548, 5047561, 4130304, 11333483, 1198575, 10689209, 5771876, 973560, 71808, 10738958, 17373662, 100388073, 6453553, 1355986, 3497117, 1325648, 112078730, 3377, 48678, 889953, 5532156, 65129728, 279287, 2172579, 3996765, 83517045, 30417856, 33701, 10473455, 56672, 112003, 167294, 17581472, 12771246, 1920922, 782766, 11263077, 9746117, 7436154, 9684679, 339031, 1366417754, 270625568, 82913906, 39309783, 4882495, 84584, 8519377, 60550075, 2948279, 126860301, 10101694, 18551427, 52573973, 117606, 4207083, 6415850, 7169455, 1906743, 6855713, 2125268, 4937374, 6777452, 38019, 2759627, 615729, 640445, 2083459, 26969307, 18628747, 31949777, 530953, 19658031, 440372, 58791, 4525696, 1269668, 127575529, 4043263, 38964, 3225167, 627987, 4989, 36471769, 30366036, 54045420, 2494530, 10756, 28608710, 17097130, 282750, 4783063, 6545502, 23310715, 200963599, 1615, 25666161, 57216, 5378857, 4974986, 216565318, 18008, 4981420, 4246439, 8776109, 7044636, 32510453, 108116615, 37887768, 10226187, 2933408, 2832067, 19364557, 145872256, 12626950, 52823, 182790, 38002, 5822, 110589, 197097, 33860, 215056, 34268528, 16296364, 8772235, 97739, 7813215, 5804337, 42388, 5457013, 2078654, 669823, 15442905, 58558270, 51225308, 11062113, 46736776, 21323733, 42813238, 581372, 1148130, 10036379, 8591365, 17070135, 23773876, 9321018, 58005463, 69625582, 1293119, 8082366, 1340, 104494, 1394973, 11694719, 83429615, 5942089, 38191, 11646, 44269594, 43993638, 9770529, 67530172, 329064917, 3461734, 32981716, 299882, 799, 28515829, 96462106, 11432, 582463, 29161922, 17861030, 14645468, 28007, 4000, 2000, 428697, 1402, 596, 26104993, 158665, 84068091, 105544, 67052, 97857, 2169, 67, 89154519, 9131, 6600, 30, 2642, 2157846, 300, 107268, 1793000]}],\n",
              "                        {\"coloraxis\": {\"cmax\": 999999999, \"cmin\": 0, \"colorbar\": {\"title\": {\"text\": \"pop\"}}, \"colorscale\": [[0.0, \"rgb(255,247,236)\"], [0.125, \"rgb(254,232,200)\"], [0.25, \"rgb(253,212,158)\"], [0.375, \"rgb(253,187,132)\"], [0.5, \"rgb(252,141,89)\"], [0.625, \"rgb(239,101,72)\"], [0.75, \"rgb(215,48,31)\"], [0.875, \"rgb(179,0,0)\"], [1.0, \"rgb(127,0,0)\"]]}, \"geo\": {\"center\": {}, \"domain\": {\"x\": [0.0, 1.0], \"y\": [0.0, 1.0]}}, \"legend\": {\"tracegroupgap\": 0}, \"margin\": {\"t\": 60}, \"template\": {\"data\": {\"bar\": [{\"error_x\": {\"color\": \"#2a3f5f\"}, \"error_y\": {\"color\": \"#2a3f5f\"}, \"marker\": {\"line\": {\"color\": \"#E5ECF6\", \"width\": 0.5}}, \"type\": \"bar\"}], \"barpolar\": [{\"marker\": {\"line\": {\"color\": \"#E5ECF6\", \"width\": 0.5}}, \"type\": \"barpolar\"}], \"carpet\": [{\"aaxis\": {\"endlinecolor\": \"#2a3f5f\", \"gridcolor\": \"white\", \"linecolor\": \"white\", \"minorgridcolor\": \"white\", \"startlinecolor\": \"#2a3f5f\"}, \"baxis\": {\"endlinecolor\": \"#2a3f5f\", \"gridcolor\": \"white\", \"linecolor\": \"white\", \"minorgridcolor\": \"white\", \"startlinecolor\": \"#2a3f5f\"}, \"type\": \"carpet\"}], \"choropleth\": [{\"colorbar\": {\"outlinewidth\": 0, \"ticks\": \"\"}, \"type\": \"choropleth\"}], \"contour\": [{\"colorbar\": {\"outlinewidth\": 0, \"ticks\": \"\"}, \"colorscale\": [[0.0, \"#0d0887\"], [0.1111111111111111, \"#46039f\"], [0.2222222222222222, \"#7201a8\"], [0.3333333333333333, \"#9c179e\"], [0.4444444444444444, \"#bd3786\"], [0.5555555555555556, \"#d8576b\"], [0.6666666666666666, \"#ed7953\"], [0.7777777777777778, \"#fb9f3a\"], [0.8888888888888888, \"#fdca26\"], [1.0, \"#f0f921\"]], \"type\": \"contour\"}], \"contourcarpet\": [{\"colorbar\": {\"outlinewidth\": 0, \"ticks\": \"\"}, \"type\": \"contourcarpet\"}], \"heatmap\": [{\"colorbar\": {\"outlinewidth\": 0, \"ticks\": \"\"}, \"colorscale\": [[0.0, \"#0d0887\"], [0.1111111111111111, \"#46039f\"], [0.2222222222222222, \"#7201a8\"], [0.3333333333333333, \"#9c179e\"], [0.4444444444444444, \"#bd3786\"], [0.5555555555555556, \"#d8576b\"], [0.6666666666666666, \"#ed7953\"], [0.7777777777777778, \"#fb9f3a\"], [0.8888888888888888, \"#fdca26\"], [1.0, \"#f0f921\"]], \"type\": \"heatmap\"}], \"heatmapgl\": [{\"colorbar\": {\"outlinewidth\": 0, \"ticks\": \"\"}, \"colorscale\": [[0.0, \"#0d0887\"], [0.1111111111111111, \"#46039f\"], [0.2222222222222222, \"#7201a8\"], [0.3333333333333333, \"#9c179e\"], [0.4444444444444444, \"#bd3786\"], [0.5555555555555556, \"#d8576b\"], [0.6666666666666666, \"#ed7953\"], [0.7777777777777778, \"#fb9f3a\"], [0.8888888888888888, \"#fdca26\"], [1.0, \"#f0f921\"]], \"type\": \"heatmapgl\"}], \"histogram\": [{\"marker\": {\"colorbar\": {\"outlinewidth\": 0, \"ticks\": \"\"}}, \"type\": \"histogram\"}], \"histogram2d\": [{\"colorbar\": {\"outlinewidth\": 0, \"ticks\": \"\"}, \"colorscale\": [[0.0, \"#0d0887\"], [0.1111111111111111, \"#46039f\"], [0.2222222222222222, \"#7201a8\"], [0.3333333333333333, \"#9c179e\"], [0.4444444444444444, \"#bd3786\"], [0.5555555555555556, \"#d8576b\"], [0.6666666666666666, \"#ed7953\"], [0.7777777777777778, \"#fb9f3a\"], [0.8888888888888888, \"#fdca26\"], [1.0, \"#f0f921\"]], \"type\": \"histogram2d\"}], \"histogram2dcontour\": [{\"colorbar\": {\"outlinewidth\": 0, \"ticks\": \"\"}, \"colorscale\": [[0.0, \"#0d0887\"], [0.1111111111111111, \"#46039f\"], [0.2222222222222222, \"#7201a8\"], [0.3333333333333333, \"#9c179e\"], [0.4444444444444444, \"#bd3786\"], [0.5555555555555556, \"#d8576b\"], [0.6666666666666666, \"#ed7953\"], [0.7777777777777778, \"#fb9f3a\"], [0.8888888888888888, \"#fdca26\"], [1.0, \"#f0f921\"]], \"type\": \"histogram2dcontour\"}], \"mesh3d\": [{\"colorbar\": {\"outlinewidth\": 0, \"ticks\": \"\"}, \"type\": \"mesh3d\"}], \"parcoords\": [{\"line\": {\"colorbar\": {\"outlinewidth\": 0, \"ticks\": \"\"}}, \"type\": \"parcoords\"}], \"pie\": [{\"automargin\": true, \"type\": \"pie\"}], \"scatter\": [{\"marker\": {\"colorbar\": {\"outlinewidth\": 0, \"ticks\": \"\"}}, \"type\": \"scatter\"}], \"scatter3d\": [{\"line\": {\"colorbar\": {\"outlinewidth\": 0, \"ticks\": \"\"}}, \"marker\": {\"colorbar\": {\"outlinewidth\": 0, \"ticks\": \"\"}}, \"type\": \"scatter3d\"}], \"scattercarpet\": [{\"marker\": {\"colorbar\": {\"outlinewidth\": 0, \"ticks\": \"\"}}, \"type\": \"scattercarpet\"}], \"scattergeo\": [{\"marker\": {\"colorbar\": {\"outlinewidth\": 0, \"ticks\": \"\"}}, \"type\": \"scattergeo\"}], \"scattergl\": [{\"marker\": {\"colorbar\": {\"outlinewidth\": 0, \"ticks\": \"\"}}, \"type\": \"scattergl\"}], \"scattermapbox\": [{\"marker\": {\"colorbar\": {\"outlinewidth\": 0, \"ticks\": \"\"}}, \"type\": \"scattermapbox\"}], \"scatterpolar\": [{\"marker\": {\"colorbar\": {\"outlinewidth\": 0, \"ticks\": \"\"}}, \"type\": \"scatterpolar\"}], \"scatterpolargl\": [{\"marker\": {\"colorbar\": {\"outlinewidth\": 0, \"ticks\": \"\"}}, \"type\": \"scatterpolargl\"}], \"scatterternary\": [{\"marker\": {\"colorbar\": {\"outlinewidth\": 0, \"ticks\": \"\"}}, \"type\": \"scatterternary\"}], \"surface\": [{\"colorbar\": {\"outlinewidth\": 0, \"ticks\": \"\"}, \"colorscale\": [[0.0, \"#0d0887\"], [0.1111111111111111, \"#46039f\"], [0.2222222222222222, \"#7201a8\"], [0.3333333333333333, \"#9c179e\"], [0.4444444444444444, \"#bd3786\"], [0.5555555555555556, \"#d8576b\"], [0.6666666666666666, \"#ed7953\"], [0.7777777777777778, \"#fb9f3a\"], [0.8888888888888888, \"#fdca26\"], [1.0, \"#f0f921\"]], \"type\": \"surface\"}], \"table\": [{\"cells\": {\"fill\": {\"color\": \"#EBF0F8\"}, \"line\": {\"color\": \"white\"}}, \"header\": {\"fill\": {\"color\": \"#C8D4E3\"}, \"line\": {\"color\": \"white\"}}, \"type\": \"table\"}]}, \"layout\": {\"annotationdefaults\": {\"arrowcolor\": \"#2a3f5f\", \"arrowhead\": 0, \"arrowwidth\": 1}, \"coloraxis\": {\"colorbar\": {\"outlinewidth\": 0, \"ticks\": \"\"}}, \"colorscale\": {\"diverging\": [[0, \"#8e0152\"], [0.1, \"#c51b7d\"], [0.2, \"#de77ae\"], [0.3, \"#f1b6da\"], [0.4, \"#fde0ef\"], [0.5, \"#f7f7f7\"], [0.6, \"#e6f5d0\"], [0.7, \"#b8e186\"], [0.8, \"#7fbc41\"], [0.9, \"#4d9221\"], [1, \"#276419\"]], \"sequential\": [[0.0, \"#0d0887\"], [0.1111111111111111, \"#46039f\"], [0.2222222222222222, \"#7201a8\"], [0.3333333333333333, \"#9c179e\"], [0.4444444444444444, \"#bd3786\"], [0.5555555555555556, \"#d8576b\"], [0.6666666666666666, \"#ed7953\"], [0.7777777777777778, \"#fb9f3a\"], [0.8888888888888888, \"#fdca26\"], [1.0, \"#f0f921\"]], \"sequentialminus\": [[0.0, \"#0d0887\"], [0.1111111111111111, \"#46039f\"], [0.2222222222222222, \"#7201a8\"], [0.3333333333333333, \"#9c179e\"], [0.4444444444444444, \"#bd3786\"], [0.5555555555555556, \"#d8576b\"], [0.6666666666666666, \"#ed7953\"], [0.7777777777777778, \"#fb9f3a\"], [0.8888888888888888, \"#fdca26\"], [1.0, \"#f0f921\"]]}, \"colorway\": [\"#636efa\", \"#EF553B\", \"#00cc96\", \"#ab63fa\", \"#FFA15A\", \"#19d3f3\", \"#FF6692\", \"#B6E880\", \"#FF97FF\", \"#FECB52\"], \"font\": {\"color\": \"#2a3f5f\"}, \"geo\": {\"bgcolor\": \"white\", \"lakecolor\": \"white\", \"landcolor\": \"#E5ECF6\", \"showlakes\": true, \"showland\": true, \"subunitcolor\": \"white\"}, \"hoverlabel\": {\"align\": \"left\"}, \"hovermode\": \"closest\", \"mapbox\": {\"style\": \"light\"}, \"paper_bgcolor\": \"white\", \"plot_bgcolor\": \"#E5ECF6\", \"polar\": {\"angularaxis\": {\"gridcolor\": \"white\", \"linecolor\": \"white\", \"ticks\": \"\"}, \"bgcolor\": \"#E5ECF6\", \"radialaxis\": {\"gridcolor\": \"white\", \"linecolor\": \"white\", \"ticks\": \"\"}}, \"scene\": {\"xaxis\": {\"backgroundcolor\": \"#E5ECF6\", \"gridcolor\": \"white\", \"gridwidth\": 2, \"linecolor\": \"white\", \"showbackground\": true, \"ticks\": \"\", \"zerolinecolor\": \"white\"}, \"yaxis\": {\"backgroundcolor\": \"#E5ECF6\", \"gridcolor\": \"white\", \"gridwidth\": 2, \"linecolor\": \"white\", \"showbackground\": true, \"ticks\": \"\", \"zerolinecolor\": \"white\"}, \"zaxis\": {\"backgroundcolor\": \"#E5ECF6\", \"gridcolor\": \"white\", \"gridwidth\": 2, \"linecolor\": \"white\", \"showbackground\": true, \"ticks\": \"\", \"zerolinecolor\": \"white\"}}, \"shapedefaults\": {\"line\": {\"color\": \"#2a3f5f\"}}, \"ternary\": {\"aaxis\": {\"gridcolor\": \"white\", \"linecolor\": \"white\", \"ticks\": \"\"}, \"baxis\": {\"gridcolor\": \"white\", \"linecolor\": \"white\", \"ticks\": \"\"}, \"bgcolor\": \"#E5ECF6\", \"caxis\": {\"gridcolor\": \"white\", \"linecolor\": \"white\", \"ticks\": \"\"}}, \"title\": {\"x\": 0.05}, \"xaxis\": {\"automargin\": true, \"gridcolor\": \"white\", \"linecolor\": \"white\", \"ticks\": \"\", \"title\": {\"standoff\": 15}, \"zerolinecolor\": \"white\", \"zerolinewidth\": 2}, \"yaxis\": {\"automargin\": true, \"gridcolor\": \"white\", \"linecolor\": \"white\", \"ticks\": \"\", \"title\": {\"standoff\": 15}, \"zerolinecolor\": \"white\", \"zerolinewidth\": 2}}}},\n",
              "                        {\"responsive\": true}\n",
              "                    ).then(function(){\n",
              "                            \n",
              "var gd = document.getElementById('33cc858b-2cec-4b1a-b8df-9f70e644bbbc');\n",
              "var x = new MutationObserver(function (mutations, observer) {{\n",
              "        var display = window.getComputedStyle(gd).display;\n",
              "        if (!display || display === 'none') {{\n",
              "            console.log([gd, 'removed!']);\n",
              "            Plotly.purge(gd);\n",
              "            observer.disconnect();\n",
              "        }}\n",
              "}});\n",
              "\n",
              "// Listen for the removal of the full notebook cells\n",
              "var notebookContainer = gd.closest('#notebook-container');\n",
              "if (notebookContainer) {{\n",
              "    x.observe(notebookContainer, {childList: true});\n",
              "}}\n",
              "\n",
              "// Listen for the clearing of the current output cell\n",
              "var outputEl = gd.closest('.output');\n",
              "if (outputEl) {{\n",
              "    x.observe(outputEl, {childList: true});\n",
              "}}\n",
              "\n",
              "                        })\n",
              "                };\n",
              "                \n",
              "            </script>\n",
              "        </div>\n",
              "</body>\n",
              "</html>"
            ]
          },
          "metadata": {
            "tags": []
          }
        }
      ]
    },
    {
      "cell_type": "code",
      "metadata": {
        "id": "-WYu2aK62Lld",
        "colab_type": "code",
        "colab": {}
      },
      "source": [
        ""
      ],
      "execution_count": null,
      "outputs": []
    }
  ]
}